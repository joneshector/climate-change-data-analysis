{
 "cells": [
  {
   "cell_type": "markdown",
   "id": "497f4f75-c64a-4c2d-bc07-f130ce1193c3",
   "metadata": {},
   "source": [
    "# File Structure\n",
    "\n",
    "This notebook contains assumptions, EDA, reflections, and ETL code that I made during work on climate datasets."
   ]
  },
  {
   "cell_type": "code",
   "execution_count": 1,
   "id": "70db3a65-7be3-4ee8-9cd4-860ab04d67de",
   "metadata": {},
   "outputs": [],
   "source": [
    "import pandas as pd\n",
    "import numpy as np"
   ]
  },
  {
   "cell_type": "code",
   "execution_count": 43,
   "id": "4aeeee2d-1302-481f-81d6-fcbeaa94a6b9",
   "metadata": {},
   "outputs": [
    {
     "ename": "ModuleNotFoundError",
     "evalue": "No module named 'config'",
     "output_type": "error",
     "traceback": [
      "\u001b[1;31m---------------------------------------------------------------------------\u001b[0m",
      "\u001b[1;31mModuleNotFoundError\u001b[0m                       Traceback (most recent call last)",
      "Cell \u001b[1;32mIn[43], line 10\u001b[0m\n\u001b[0;32m      7\u001b[0m \u001b[38;5;28;01mfrom\u001b[39;00m \u001b[38;5;21;01msqlalchemy\u001b[39;00m\u001b[38;5;21;01m.\u001b[39;00m\u001b[38;5;21;01mext\u001b[39;00m\u001b[38;5;21;01m.\u001b[39;00m\u001b[38;5;21;01mdeclarative\u001b[39;00m \u001b[38;5;28;01mimport\u001b[39;00m declarative_base\n\u001b[0;32m      8\u001b[0m \u001b[38;5;28;01mfrom\u001b[39;00m \u001b[38;5;21;01murllib\u001b[39;00m\u001b[38;5;21;01m.\u001b[39;00m\u001b[38;5;21;01mparse\u001b[39;00m \u001b[38;5;28;01mimport\u001b[39;00m quote_plus\n\u001b[1;32m---> 10\u001b[0m \u001b[38;5;28;01mfrom\u001b[39;00m \u001b[38;5;21;01mconfig\u001b[39;00m \u001b[38;5;28;01mimport\u001b[39;00m DB_USERNAME, DB_PASSWORD, DB_SERVER, DB_NAME, DB_DRIVER, DB_SCHEMA\n",
      "\u001b[1;31mModuleNotFoundError\u001b[0m: No module named 'config'"
     ]
    }
   ],
   "source": [
    "import sqlalchemy, pyodbc\n",
    "\n",
    "import urllib\n",
    "\n",
    "from sqlalchemy import create_engine, Column, Integer\n",
    "from sqlalchemy.orm import sessionmaker\n",
    "from sqlalchemy.ext.declarative import declarative_base\n",
    "from urllib.parse import quote_plus\n",
    "\n",
    "from config import DB_USERNAME, DB_PASSWORD, DB_SERVER, DB_NAME, DB_DRIVER, DB_SCHEMA"
   ]
  },
  {
   "cell_type": "code",
   "execution_count": 2,
   "id": "bfde3102-fa97-4967-a4ee-e38826bd8f40",
   "metadata": {},
   "outputs": [],
   "source": [
    "pd.set_option('display.max_columns', None)"
   ]
  },
  {
   "cell_type": "markdown",
   "id": "0bcb4192-f114-42ea-a050-19ed689120a0",
   "metadata": {},
   "source": [
    "# Data Load, EDA and Preparation Sections"
   ]
  },
  {
   "cell_type": "markdown",
   "id": "1731626c-3943-4fe0-8ef0-869f8bfcef4a",
   "metadata": {},
   "source": [
    "Use a copy of `Theatres.xlsx` as to not risk corrupting the original"
   ]
  },
  {
   "cell_type": "code",
   "execution_count": 24,
   "id": "9ee53eea-acf0-4d1c-ad90-7a07115ce379",
   "metadata": {},
   "outputs": [],
   "source": [
    "df_cities = pd.read_csv('archive\\GlobalLandTemperaturesByCity.csv')"
   ]
  },
  {
   "cell_type": "code",
   "execution_count": 26,
   "id": "9103b1e2-74b4-4145-9bd9-d878372c201f",
   "metadata": {},
   "outputs": [
    {
     "data": {
      "text/html": [
       "<div>\n",
       "<style scoped>\n",
       "    .dataframe tbody tr th:only-of-type {\n",
       "        vertical-align: middle;\n",
       "    }\n",
       "\n",
       "    .dataframe tbody tr th {\n",
       "        vertical-align: top;\n",
       "    }\n",
       "\n",
       "    .dataframe thead th {\n",
       "        text-align: right;\n",
       "    }\n",
       "</style>\n",
       "<table border=\"1\" class=\"dataframe\">\n",
       "  <thead>\n",
       "    <tr style=\"text-align: right;\">\n",
       "      <th></th>\n",
       "      <th>dt</th>\n",
       "      <th>AverageTemperature</th>\n",
       "      <th>AverageTemperatureUncertainty</th>\n",
       "      <th>City</th>\n",
       "      <th>Country</th>\n",
       "      <th>Latitude</th>\n",
       "      <th>Longitude</th>\n",
       "    </tr>\n",
       "  </thead>\n",
       "  <tbody>\n",
       "    <tr>\n",
       "      <th>0</th>\n",
       "      <td>1743-11-01</td>\n",
       "      <td>6.068</td>\n",
       "      <td>1.737</td>\n",
       "      <td>Århus</td>\n",
       "      <td>Denmark</td>\n",
       "      <td>57.05N</td>\n",
       "      <td>10.33E</td>\n",
       "    </tr>\n",
       "    <tr>\n",
       "      <th>1</th>\n",
       "      <td>1743-12-01</td>\n",
       "      <td>NaN</td>\n",
       "      <td>NaN</td>\n",
       "      <td>Århus</td>\n",
       "      <td>Denmark</td>\n",
       "      <td>57.05N</td>\n",
       "      <td>10.33E</td>\n",
       "    </tr>\n",
       "    <tr>\n",
       "      <th>2</th>\n",
       "      <td>1744-01-01</td>\n",
       "      <td>NaN</td>\n",
       "      <td>NaN</td>\n",
       "      <td>Århus</td>\n",
       "      <td>Denmark</td>\n",
       "      <td>57.05N</td>\n",
       "      <td>10.33E</td>\n",
       "    </tr>\n",
       "    <tr>\n",
       "      <th>3</th>\n",
       "      <td>1744-02-01</td>\n",
       "      <td>NaN</td>\n",
       "      <td>NaN</td>\n",
       "      <td>Århus</td>\n",
       "      <td>Denmark</td>\n",
       "      <td>57.05N</td>\n",
       "      <td>10.33E</td>\n",
       "    </tr>\n",
       "    <tr>\n",
       "      <th>4</th>\n",
       "      <td>1744-03-01</td>\n",
       "      <td>NaN</td>\n",
       "      <td>NaN</td>\n",
       "      <td>Århus</td>\n",
       "      <td>Denmark</td>\n",
       "      <td>57.05N</td>\n",
       "      <td>10.33E</td>\n",
       "    </tr>\n",
       "  </tbody>\n",
       "</table>\n",
       "</div>"
      ],
      "text/plain": [
       "           dt  AverageTemperature  AverageTemperatureUncertainty   City  \\\n",
       "0  1743-11-01               6.068                          1.737  Århus   \n",
       "1  1743-12-01                 NaN                            NaN  Århus   \n",
       "2  1744-01-01                 NaN                            NaN  Århus   \n",
       "3  1744-02-01                 NaN                            NaN  Århus   \n",
       "4  1744-03-01                 NaN                            NaN  Århus   \n",
       "\n",
       "   Country Latitude Longitude  \n",
       "0  Denmark   57.05N    10.33E  \n",
       "1  Denmark   57.05N    10.33E  \n",
       "2  Denmark   57.05N    10.33E  \n",
       "3  Denmark   57.05N    10.33E  \n",
       "4  Denmark   57.05N    10.33E  "
      ]
     },
     "execution_count": 26,
     "metadata": {},
     "output_type": "execute_result"
    }
   ],
   "source": [
    "df_cities.head()"
   ]
  },
  {
   "cell_type": "code",
   "execution_count": 27,
   "id": "07a6b901-5eae-4742-912c-7713ad235606",
   "metadata": {},
   "outputs": [
    {
     "name": "stdout",
     "output_type": "stream",
     "text": [
      "<class 'pandas.core.frame.DataFrame'>\n",
      "RangeIndex: 8599212 entries, 0 to 8599211\n",
      "Data columns (total 7 columns):\n",
      " #   Column                         Dtype  \n",
      "---  ------                         -----  \n",
      " 0   dt                             object \n",
      " 1   AverageTemperature             float64\n",
      " 2   AverageTemperatureUncertainty  float64\n",
      " 3   City                           object \n",
      " 4   Country                        object \n",
      " 5   Latitude                       object \n",
      " 6   Longitude                      object \n",
      "dtypes: float64(2), object(5)\n",
      "memory usage: 459.2+ MB\n",
      "None\n"
     ]
    }
   ],
   "source": [
    "print(df_cities.info(verbose=True))"
   ]
  },
  {
   "cell_type": "code",
   "execution_count": 28,
   "id": "c435408b-ad63-4c09-9242-4b580595c98b",
   "metadata": {},
   "outputs": [],
   "source": [
    "df_fra = df_cities[df_cities[\"Country\"] == \"France\"]"
   ]
  },
  {
   "cell_type": "code",
   "execution_count": 29,
   "id": "b6fda32d-472d-4f63-a708-f307055a0d5b",
   "metadata": {},
   "outputs": [
    {
     "name": "stdout",
     "output_type": "stream",
     "text": [
      "0\n"
     ]
    }
   ],
   "source": [
    "print(df_fra.duplicated().sum())"
   ]
  },
  {
   "cell_type": "code",
   "execution_count": 30,
   "id": "aa8361bb-4d44-426f-b01d-5d37ae040215",
   "metadata": {},
   "outputs": [
    {
     "data": {
      "text/html": [
       "<div>\n",
       "<style scoped>\n",
       "    .dataframe tbody tr th:only-of-type {\n",
       "        vertical-align: middle;\n",
       "    }\n",
       "\n",
       "    .dataframe tbody tr th {\n",
       "        vertical-align: top;\n",
       "    }\n",
       "\n",
       "    .dataframe thead th {\n",
       "        text-align: right;\n",
       "    }\n",
       "</style>\n",
       "<table border=\"1\" class=\"dataframe\">\n",
       "  <thead>\n",
       "    <tr style=\"text-align: right;\">\n",
       "      <th></th>\n",
       "      <th>dt</th>\n",
       "      <th>AverageTemperature</th>\n",
       "      <th>AverageTemperatureUncertainty</th>\n",
       "      <th>City</th>\n",
       "      <th>Country</th>\n",
       "      <th>Latitude</th>\n",
       "      <th>Longitude</th>\n",
       "    </tr>\n",
       "  </thead>\n",
       "  <tbody>\n",
       "    <tr>\n",
       "      <th>117012</th>\n",
       "      <td>1743-11-01</td>\n",
       "      <td>7.478</td>\n",
       "      <td>1.866</td>\n",
       "      <td>Aix En Provence</td>\n",
       "      <td>France</td>\n",
       "      <td>44.20N</td>\n",
       "      <td>4.47E</td>\n",
       "    </tr>\n",
       "    <tr>\n",
       "      <th>117013</th>\n",
       "      <td>1743-12-01</td>\n",
       "      <td>NaN</td>\n",
       "      <td>NaN</td>\n",
       "      <td>Aix En Provence</td>\n",
       "      <td>France</td>\n",
       "      <td>44.20N</td>\n",
       "      <td>4.47E</td>\n",
       "    </tr>\n",
       "    <tr>\n",
       "      <th>117014</th>\n",
       "      <td>1744-01-01</td>\n",
       "      <td>NaN</td>\n",
       "      <td>NaN</td>\n",
       "      <td>Aix En Provence</td>\n",
       "      <td>France</td>\n",
       "      <td>44.20N</td>\n",
       "      <td>4.47E</td>\n",
       "    </tr>\n",
       "    <tr>\n",
       "      <th>117015</th>\n",
       "      <td>1744-02-01</td>\n",
       "      <td>NaN</td>\n",
       "      <td>NaN</td>\n",
       "      <td>Aix En Provence</td>\n",
       "      <td>France</td>\n",
       "      <td>44.20N</td>\n",
       "      <td>4.47E</td>\n",
       "    </tr>\n",
       "    <tr>\n",
       "      <th>117016</th>\n",
       "      <td>1744-03-01</td>\n",
       "      <td>NaN</td>\n",
       "      <td>NaN</td>\n",
       "      <td>Aix En Provence</td>\n",
       "      <td>France</td>\n",
       "      <td>44.20N</td>\n",
       "      <td>4.47E</td>\n",
       "    </tr>\n",
       "    <tr>\n",
       "      <th>...</th>\n",
       "      <td>...</td>\n",
       "      <td>...</td>\n",
       "      <td>...</td>\n",
       "      <td>...</td>\n",
       "      <td>...</td>\n",
       "      <td>...</td>\n",
       "      <td>...</td>\n",
       "    </tr>\n",
       "    <tr>\n",
       "      <th>8045376</th>\n",
       "      <td>2013-05-01</td>\n",
       "      <td>10.477</td>\n",
       "      <td>0.406</td>\n",
       "      <td>Villeurbanne</td>\n",
       "      <td>France</td>\n",
       "      <td>45.81N</td>\n",
       "      <td>5.77E</td>\n",
       "    </tr>\n",
       "    <tr>\n",
       "      <th>8045377</th>\n",
       "      <td>2013-06-01</td>\n",
       "      <td>15.970</td>\n",
       "      <td>0.453</td>\n",
       "      <td>Villeurbanne</td>\n",
       "      <td>France</td>\n",
       "      <td>45.81N</td>\n",
       "      <td>5.77E</td>\n",
       "    </tr>\n",
       "    <tr>\n",
       "      <th>8045378</th>\n",
       "      <td>2013-07-01</td>\n",
       "      <td>20.531</td>\n",
       "      <td>0.367</td>\n",
       "      <td>Villeurbanne</td>\n",
       "      <td>France</td>\n",
       "      <td>45.81N</td>\n",
       "      <td>5.77E</td>\n",
       "    </tr>\n",
       "    <tr>\n",
       "      <th>8045379</th>\n",
       "      <td>2013-08-01</td>\n",
       "      <td>18.633</td>\n",
       "      <td>0.417</td>\n",
       "      <td>Villeurbanne</td>\n",
       "      <td>France</td>\n",
       "      <td>45.81N</td>\n",
       "      <td>5.77E</td>\n",
       "    </tr>\n",
       "    <tr>\n",
       "      <th>8045380</th>\n",
       "      <td>2013-09-01</td>\n",
       "      <td>NaN</td>\n",
       "      <td>NaN</td>\n",
       "      <td>Villeurbanne</td>\n",
       "      <td>France</td>\n",
       "      <td>45.81N</td>\n",
       "      <td>5.77E</td>\n",
       "    </tr>\n",
       "  </tbody>\n",
       "</table>\n",
       "<p>116604 rows × 7 columns</p>\n",
       "</div>"
      ],
      "text/plain": [
       "                 dt  AverageTemperature  AverageTemperatureUncertainty  \\\n",
       "117012   1743-11-01               7.478                          1.866   \n",
       "117013   1743-12-01                 NaN                            NaN   \n",
       "117014   1744-01-01                 NaN                            NaN   \n",
       "117015   1744-02-01                 NaN                            NaN   \n",
       "117016   1744-03-01                 NaN                            NaN   \n",
       "...             ...                 ...                            ...   \n",
       "8045376  2013-05-01              10.477                          0.406   \n",
       "8045377  2013-06-01              15.970                          0.453   \n",
       "8045378  2013-07-01              20.531                          0.367   \n",
       "8045379  2013-08-01              18.633                          0.417   \n",
       "8045380  2013-09-01                 NaN                            NaN   \n",
       "\n",
       "                    City Country Latitude Longitude  \n",
       "117012   Aix En Provence  France   44.20N     4.47E  \n",
       "117013   Aix En Provence  France   44.20N     4.47E  \n",
       "117014   Aix En Provence  France   44.20N     4.47E  \n",
       "117015   Aix En Provence  France   44.20N     4.47E  \n",
       "117016   Aix En Provence  France   44.20N     4.47E  \n",
       "...                  ...     ...      ...       ...  \n",
       "8045376     Villeurbanne  France   45.81N     5.77E  \n",
       "8045377     Villeurbanne  France   45.81N     5.77E  \n",
       "8045378     Villeurbanne  France   45.81N     5.77E  \n",
       "8045379     Villeurbanne  France   45.81N     5.77E  \n",
       "8045380     Villeurbanne  France   45.81N     5.77E  \n",
       "\n",
       "[116604 rows x 7 columns]"
      ]
     },
     "execution_count": 30,
     "metadata": {},
     "output_type": "execute_result"
    }
   ],
   "source": [
    "df_fra"
   ]
  },
  {
   "cell_type": "code",
   "execution_count": 31,
   "id": "5ea140fd-4fd9-4d94-ae76-3f9b987721a7",
   "metadata": {},
   "outputs": [
    {
     "data": {
      "text/plain": [
       "Index(['dt', 'AverageTemperature', 'AverageTemperatureUncertainty', 'City',\n",
       "       'Country', 'Latitude', 'Longitude'],\n",
       "      dtype='object')"
      ]
     },
     "execution_count": 31,
     "metadata": {},
     "output_type": "execute_result"
    }
   ],
   "source": [
    "df_fra.columns"
   ]
  },
  {
   "cell_type": "code",
   "execution_count": 32,
   "id": "262feef4-ef8f-4a06-bf9b-79ed357b3c14",
   "metadata": {},
   "outputs": [
    {
     "data": {
      "text/plain": [
       "City\n",
       "Aix En Provence         3239\n",
       "Amiens                  3239\n",
       "Nîmes                   3239\n",
       "Nancy                   3239\n",
       "Nantes                  3239\n",
       "Nice                    3239\n",
       "Orléans                 3239\n",
       "Paris                   3239\n",
       "Perpignan               3239\n",
       "Reims                   3239\n",
       "Rennes                  3239\n",
       "Rouen                   3239\n",
       "Saint Étienne           3239\n",
       "Strasbourg              3239\n",
       "Toulon                  3239\n",
       "Toulouse                3239\n",
       "Tours                   3239\n",
       "Mulhouse                3239\n",
       "Montpellier             3239\n",
       "Metz                    3239\n",
       "Clermont Ferrand        3239\n",
       "Angers                  3239\n",
       "Besançon                3239\n",
       "Bordeaux                3239\n",
       "Boulogne Billancourt    3239\n",
       "Brest                   3239\n",
       "Caen                    3239\n",
       "Dijon                   3239\n",
       "Marseille               3239\n",
       "Grenoble                3239\n",
       "Le Havre                3239\n",
       "Le Mans                 3239\n",
       "Lille                   3239\n",
       "Limoges                 3239\n",
       "Lyon                    3239\n",
       "Villeurbanne            3239\n",
       "Name: count, dtype: int64"
      ]
     },
     "execution_count": 32,
     "metadata": {},
     "output_type": "execute_result"
    }
   ],
   "source": [
    "df_fra['City'].value_counts()"
   ]
  },
  {
   "cell_type": "code",
   "execution_count": 33,
   "id": "5fb4b746-71a8-4840-aedf-7c36d8a23b11",
   "metadata": {},
   "outputs": [
    {
     "data": {
      "text/plain": [
       "dt                                  0\n",
       "AverageTemperature               2628\n",
       "AverageTemperatureUncertainty    2628\n",
       "City                                0\n",
       "Country                             0\n",
       "Latitude                            0\n",
       "Longitude                           0\n",
       "dtype: int64"
      ]
     },
     "execution_count": 33,
     "metadata": {},
     "output_type": "execute_result"
    }
   ],
   "source": [
    "df_fra.isnull().sum()"
   ]
  },
  {
   "cell_type": "code",
   "execution_count": 34,
   "id": "74d5f3d0-f833-4ac9-84c9-360e2abfb105",
   "metadata": {},
   "outputs": [
    {
     "data": {
      "text/html": [
       "<div>\n",
       "<style scoped>\n",
       "    .dataframe tbody tr th:only-of-type {\n",
       "        vertical-align: middle;\n",
       "    }\n",
       "\n",
       "    .dataframe tbody tr th {\n",
       "        vertical-align: top;\n",
       "    }\n",
       "\n",
       "    .dataframe thead th {\n",
       "        text-align: right;\n",
       "    }\n",
       "</style>\n",
       "<table border=\"1\" class=\"dataframe\">\n",
       "  <thead>\n",
       "    <tr style=\"text-align: right;\">\n",
       "      <th></th>\n",
       "      <th>AverageTemperature</th>\n",
       "      <th>AverageTemperatureUncertainty</th>\n",
       "    </tr>\n",
       "  </thead>\n",
       "  <tbody>\n",
       "    <tr>\n",
       "      <th>count</th>\n",
       "      <td>113976.000000</td>\n",
       "      <td>113976.000000</td>\n",
       "    </tr>\n",
       "    <tr>\n",
       "      <th>mean</th>\n",
       "      <td>10.337918</td>\n",
       "      <td>1.577883</td>\n",
       "    </tr>\n",
       "    <tr>\n",
       "      <th>std</th>\n",
       "      <td>6.280883</td>\n",
       "      <td>1.893495</td>\n",
       "    </tr>\n",
       "    <tr>\n",
       "      <th>min</th>\n",
       "      <td>-9.497000</td>\n",
       "      <td>0.058000</td>\n",
       "    </tr>\n",
       "    <tr>\n",
       "      <th>25%</th>\n",
       "      <td>5.157000</td>\n",
       "      <td>0.330000</td>\n",
       "    </tr>\n",
       "    <tr>\n",
       "      <th>50%</th>\n",
       "      <td>10.279000</td>\n",
       "      <td>0.699000</td>\n",
       "    </tr>\n",
       "    <tr>\n",
       "      <th>75%</th>\n",
       "      <td>15.887000</td>\n",
       "      <td>2.188000</td>\n",
       "    </tr>\n",
       "    <tr>\n",
       "      <th>max</th>\n",
       "      <td>27.174000</td>\n",
       "      <td>13.738000</td>\n",
       "    </tr>\n",
       "  </tbody>\n",
       "</table>\n",
       "</div>"
      ],
      "text/plain": [
       "       AverageTemperature  AverageTemperatureUncertainty\n",
       "count       113976.000000                  113976.000000\n",
       "mean            10.337918                       1.577883\n",
       "std              6.280883                       1.893495\n",
       "min             -9.497000                       0.058000\n",
       "25%              5.157000                       0.330000\n",
       "50%             10.279000                       0.699000\n",
       "75%             15.887000                       2.188000\n",
       "max             27.174000                      13.738000"
      ]
     },
     "execution_count": 34,
     "metadata": {},
     "output_type": "execute_result"
    }
   ],
   "source": [
    "df_fra.describe()"
   ]
  },
  {
   "cell_type": "code",
   "execution_count": 35,
   "id": "cceb7e36-aebb-4250-9e15-c9ad5dce2713",
   "metadata": {},
   "outputs": [
    {
     "name": "stdout",
     "output_type": "stream",
     "text": [
      "<class 'pandas.core.frame.DataFrame'>\n",
      "Index: 116604 entries, 117012 to 8045380\n",
      "Data columns (total 7 columns):\n",
      " #   Column                         Non-Null Count   Dtype  \n",
      "---  ------                         --------------   -----  \n",
      " 0   dt                             116604 non-null  object \n",
      " 1   AverageTemperature             113976 non-null  float64\n",
      " 2   AverageTemperatureUncertainty  113976 non-null  float64\n",
      " 3   City                           116604 non-null  object \n",
      " 4   Country                        116604 non-null  object \n",
      " 5   Latitude                       116604 non-null  object \n",
      " 6   Longitude                      116604 non-null  object \n",
      "dtypes: float64(2), object(5)\n",
      "memory usage: 7.1+ MB\n"
     ]
    }
   ],
   "source": [
    "df_fra.info()"
   ]
  },
  {
   "cell_type": "code",
   "execution_count": 36,
   "id": "cd422050-7c46-4a0d-9935-020742021bb9",
   "metadata": {},
   "outputs": [
    {
     "name": "stdout",
     "output_type": "stream",
     "text": [
      "<class 'pandas.core.series.Series'>\n",
      "Index: 116604 entries, 117012 to 8045380\n",
      "Series name: dt\n",
      "Non-Null Count   Dtype \n",
      "--------------   ----- \n",
      "116604 non-null  object\n",
      "dtypes: object(1)\n",
      "memory usage: 1.8+ MB\n"
     ]
    }
   ],
   "source": [
    "df_fra['dt'].info()"
   ]
  },
  {
   "cell_type": "markdown",
   "id": "df829e9f-9fb1-4958-b7c2-ccd111551a62",
   "metadata": {},
   "source": [
    "## Conversion of the dataframes' datetime columns to the correct dtypes"
   ]
  },
  {
   "cell_type": "code",
   "execution_count": 37,
   "id": "574c6dc0-4f1f-457a-afa8-a9030481b5bd",
   "metadata": {},
   "outputs": [
    {
     "name": "stdout",
     "output_type": "stream",
     "text": [
      "<class 'pandas.core.series.Series'>\n",
      "Index: 116604 entries, 117012 to 8045380\n",
      "Series name: dt\n",
      "Non-Null Count   Dtype \n",
      "--------------   ----- \n",
      "116604 non-null  object\n",
      "dtypes: object(1)\n",
      "memory usage: 1.8+ MB\n",
      "None\n"
     ]
    }
   ],
   "source": [
    "#df_fra = df_fra.columns\n",
    "\n",
    "df_fra_datetime_formatted = df_fra.copy()\n",
    "\n",
    "column_name = \"dt\"\n",
    "\n",
    "print(df_fra_datetime_formatted[column_name].info())\n",
    "\n",
    "try:\n",
    "    df_fra_datetime_formatted[column_name] = pd.to_datetime(df_fra_datetime_formatted[column_name], format='%Y-%m-%d', errors='coerce')\n",
    "except Exception as e:\n",
    "    print(\"An exception occurred:\", type(e).__name__, \"–\", e)"
   ]
  },
  {
   "cell_type": "code",
   "execution_count": 38,
   "id": "b20ec5ab-fbe0-426c-815d-418c1421325c",
   "metadata": {},
   "outputs": [
    {
     "name": "stdout",
     "output_type": "stream",
     "text": [
      "<class 'pandas.core.series.Series'>\n",
      "Index: 116604 entries, 117012 to 8045380\n",
      "Series name: dt\n",
      "Non-Null Count   Dtype         \n",
      "--------------   -----         \n",
      "116604 non-null  datetime64[ns]\n",
      "dtypes: datetime64[ns](1)\n",
      "memory usage: 1.8 MB\n"
     ]
    }
   ],
   "source": [
    "df_fra_datetime_formatted['dt'].info()"
   ]
  },
  {
   "cell_type": "code",
   "execution_count": 39,
   "id": "a74a5cd5-5625-4276-bf44-ac9ea0ee2cb1",
   "metadata": {},
   "outputs": [],
   "source": [
    "for column_name in df_fra_datetime_formatted:\n",
    "    post_processing_nan_count = df_fra_datetime_formatted[column_name].isnull().sum()\n",
    "    pre_processing_nan_count = df_fra[column_name].isnull().sum()\n",
    "    if post_processing_nan_count != pre_processing_nan_count:\n",
    "        print('Values were lost in column:', column_name, '| Difference in NaN/null counts:', post_processing_nan_count - pre_processing_nan_count)"
   ]
  },
  {
   "cell_type": "markdown",
   "id": "84a0901a-3dda-4e87-878e-45189c0f601d",
   "metadata": {},
   "source": [
    "---\n",
    "Upon further inspection both of these columns contain numerous entries with integer values in the 40,000s range, therefore it is safe to move forward.\n",
    "\n",
    "---"
   ]
  },
  {
   "cell_type": "markdown",
   "id": "7d14c20e-48e9-4700-8b1e-3fbe1c38e823",
   "metadata": {},
   "source": [
    "### Loading onto Azure Server"
   ]
  },
  {
   "cell_type": "code",
   "execution_count": 41,
   "id": "f98eb854-0c0c-49c9-b225-df175fec83ee",
   "metadata": {},
   "outputs": [],
   "source": [
    "df = df_fra_datetime_formatted.copy()"
   ]
  },
  {
   "cell_type": "code",
   "execution_count": 42,
   "id": "9171f729-f8ff-4965-95ca-555ce752c244",
   "metadata": {},
   "outputs": [
    {
     "name": "stdout",
     "output_type": "stream",
     "text": [
      "\n",
      "CREATE TABLE [temperatures_schema].[FranceLandTemperaturesByCity] (\n",
      "dt datetime,\n",
      "AverageTemperature decimal,\n",
      "AverageTemperatureUncertainty decimal,\n",
      "City text,\n",
      "Country text,\n",
      "Latitude text,\n",
      "Longitude text\n",
      ")\n",
      "\n"
     ]
    }
   ],
   "source": [
    "mappings = {\n",
    "        'object' : 'text',\n",
    "        'int64' : 'int',\n",
    "        'float64' : 'decimal',\n",
    "        'datetime64[ns]' : 'datetime'\n",
    "}\n",
    "\n",
    "\n",
    "sql_build_query_start = f\"\"\"\n",
    "    CREATE TABLE [{schema}].[{table}] (\n",
    "    \"\"\"\n",
    "\n",
    "sql_built_query_end = \"\"\"\n",
    ")\n",
    "\"\"\"\n",
    "\n",
    "sql_built_query = sql_build_query_start\n",
    "\n",
    "for idx, column in enumerate(df.columns):\n",
    "    if (str(column) == 'Unique_Case_Reference'):\n",
    "        sql_built_query = sql_built_query + str(column) + ' ' + mappings[str(df.dtypes.iloc[idx])] + ' ' \"primary key\"\n",
    "    else:\n",
    "        sql_built_query = sql_built_query + str(column) + ' ' + mappings[str(df.dtypes.iloc[idx])]\n",
    "\n",
    "    if not(idx == len(df.columns)-1):\n",
    "        sql_built_query = sql_built_query + \",\\n\"\n",
    "\n",
    "\n",
    "sql_built_query = sql_built_query + sql_built_query_end\n",
    "print(sql_built_query)"
   ]
  },
  {
   "cell_type": "code",
   "execution_count": null,
   "id": "b595723e-7534-4c5c-84a2-ba9be73b200e",
   "metadata": {},
   "outputs": [],
   "source": [
    "server   = DB_SERVER\n",
    "database = DB_NAME\n",
    "username = DB_USERNAME\n",
    "password = DB_PASSWORD\n",
    "odbc_driver = DB_DRIVER\n",
    "\n",
    "\n",
    "odbc_str = 'DRIVER='+odbc_driver+';SERVER='+server+';PORT=1433;UID='+username+';DATABASE='+ database + ';PWD='+ password\n",
    "\n",
    "pyodbc_conn_str = (\n",
    "    f\"Driver={odbc_driver};\"\n",
    "    f\"Server=tcp:{server},1433;\"\n",
    "    f\"Database={database};\"\n",
    "    f\"Uid={username};\"\n",
    "    f\"Pwd={password};\"\n",
    "    \"Encrypt=yes;\"\n",
    "    \"TrustServerCertificate=no;\"\n",
    "    \"Connection Timeout=30;\")\n",
    "\n",
    "sql_alchemy_connect_str = 'mssql+pyodbc:///?odbc_connect=' + urllib.parse.quote_plus(odbc_str)\n",
    "\n",
    "try:\n",
    "    connection = pyodbc.connect(pyodbc_conn_str)\n",
    "    cursor = connection.cursor()\n",
    "\n",
    "    # Create table in Azure SQL DB with pyodbc\n",
    "    cursor.execute(sql_built_query)\n",
    "    cursor.commit()\n",
    "\n",
    "    # Push Dataframe to Azure SQL DB using SQL Alchemy\n",
    "    engine = create_engine(sql_alchemy_connect_str)\n",
    "    theatres_df.to_sql(table_name, schema=schema_name, con=engine, if_exists='replace', index=False)\n",
    "\n",
    "except Exception as e:\n",
    "    print(e)\n",
    "finally:\n",
    "    if 'cursor' in locals():\n",
    "        cursor.close()\n",
    "    if 'connection' in locals():\n",
    "        connection.close()"
   ]
  }
 ],
 "metadata": {
  "kernelspec": {
   "display_name": "Python 3 (ipykernel)",
   "language": "python",
   "name": "python3"
  },
  "language_info": {
   "codemirror_mode": {
    "name": "ipython",
    "version": 3
   },
   "file_extension": ".py",
   "mimetype": "text/x-python",
   "name": "python",
   "nbconvert_exporter": "python",
   "pygments_lexer": "ipython3",
   "version": "3.11.7"
  }
 },
 "nbformat": 4,
 "nbformat_minor": 5
}
